{
  "nbformat": 4,
  "nbformat_minor": 0,
  "metadata": {
    "colab": {
      "provenance": []
    },
    "kernelspec": {
      "name": "python3",
      "display_name": "Python 3"
    },
    "language_info": {
      "name": "python"
    }
  },
  "cells": [
    {
      "cell_type": "code",
      "execution_count": null,
      "metadata": {
        "id": "K5Mcaj7vhycG"
      },
      "outputs": [],
      "source": []
    },
    {
      "cell_type": "code",
      "source": [
        "#############################\n",
        "# PYTHON ATM SYSTEM         #\n",
        "#                           #\n",
        "# Author Paulina Karczewska #\n",
        "#                           #\n",
        "#                           #\n",
        "#                           #\n",
        "# 8-Mar-2024                #\n",
        "#############################\n",
        "\n",
        "#initialise account data\n",
        "\n",
        "user = {\n",
        "    'pin': 6666,\n",
        "    'balance':5000.00\n",
        "}\n",
        "\n",
        "is_quit = False\n",
        "\n",
        "def widthdraw_cash():\n",
        "    while True:\n",
        "        amount = float(input(\"Enter the amount of money you want to widthdraw: \"))\n",
        "        if amount > user['balance']:\n",
        "            print(\"You don't have sufficient balance to make this widthdrawal\")\n",
        "        else:\n",
        "            user['balance'] = user['balance'] - amount\n",
        "            print(f\"{amount} Pounds successfully widthdrawn your remaining balance is {user['balance']} Pounds\")\n",
        "            print('')\n",
        "            return False\n",
        "\n",
        "def deposit_funds():\n",
        "      #Explicitly cast deposit input(str) to float for addition to current balance\n",
        "      new_deposit = int(input(\"How much do you wish to deposit, in Pounds?\"))\n",
        "      user['balance'] += new_deposit\n",
        "      print('\\n')\n",
        "\n",
        "def display_balance():\n",
        "    print(\"Your current balance is\", \"{:.2f}\".format(user['balance']))\n",
        "    print('\\n')\n",
        "\n",
        "print('')\n",
        "print(\"Welcome to the Python ATM\")\n",
        "\n",
        "pin = int(input('Please enter your four digit pin: '))\n",
        "\n",
        "if pin == user['pin']:\n",
        "    while is_quit == False:\n",
        "        print(\"What do you want to choose\")\n",
        "        print(\" Enter 1 to Display Balance \\n Enter 2 To Withdraw Funds \\n Enter 3 to Deposit Funds \\n 4 to Return Card \")\n",
        "\n",
        "        query = float(input(\"Enter the number corresponding to the activity you want to do: \"))\n",
        "\n",
        "        if query == 1:\n",
        "          display_balance()\n",
        "        elif query == 2:\n",
        "           widthdraw_cash()\n",
        "        elif query == 3:\n",
        "           deposit_funds()\n",
        "        elif query == 4:\n",
        "            is_quit = True\n",
        "        else:\n",
        "            print(\"Please enter a correct value shown\")\n",
        "else:\n",
        "    print(\"Entered Wrong Pin\")\n"
      ],
      "metadata": {
        "colab": {
          "base_uri": "https://localhost:8080/"
        },
        "id": "xm02Dl6tiBHl",
        "outputId": "c4916014-1a3d-48b8-9181-97d9fa02cef3"
      },
      "execution_count": null,
      "outputs": [
        {
          "output_type": "stream",
          "name": "stdout",
          "text": [
            "\n",
            "Welcome to the Python ATM\n"
          ]
        }
      ]
    }
  ]
}